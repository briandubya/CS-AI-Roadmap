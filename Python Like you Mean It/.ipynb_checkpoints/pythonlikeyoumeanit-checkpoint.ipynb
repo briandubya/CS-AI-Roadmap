{
 "cells": [
  {
   "cell_type": "code",
   "execution_count": 2,
   "id": "bd30b3f9-4662-4556-b653-6f2fc74c8c4d",
   "metadata": {
    "tags": []
   },
   "outputs": [],
   "source": [
    "x=3\n",
    "y=4"
   ]
  },
  {
   "cell_type": "code",
   "execution_count": null,
   "id": "66929413-989c-48fd-9d04-2925ced1df21",
   "metadata": {},
   "outputs": [],
   "source": [
    "x+y"
   ]
  },
  {
   "cell_type": "markdown",
   "id": "1dda94e5-1c45-4b92-ac79-7eb2c501ef90",
   "metadata": {},
   "source": [
    "# Jupyter Notebooks"
   ]
  },
  {
   "cell_type": "markdown",
   "id": "bb71195b-14f6-4397-9b5a-4c164bccd569",
   "metadata": {},
   "source": [
    "## An Example Notebook"
   ]
  },
  {
   "cell_type": "markdown",
   "id": "679eac39-82d7-4e6d-a299-18e51551acf8",
   "metadata": {},
   "source": [
    "To show off a more exciting use-case, let’s create a notebook that plots some data for us. We’ll use matplotlib, a Python library that is used for plotting data, and NumPy, the premiere library for doing numerical work in Python. We will import these libraries for use in our code. Next we’ll define some mathematical functions. And finally, we’ll plot these functions evaluated on a large number of closely-spaced points on the domain."
   ]
  },
  {
   "cell_type": "code",
   "execution_count": 4,
   "id": "b88ee966-ce43-4e35-b0b9-d062d2d21fb2",
   "metadata": {},
   "outputs": [],
   "source": [
    "import numpy as np\n",
    "import matplotlib.pyplot as plt\n",
    "\n",
    "# this tell Jupyter to embed matplotlib plots in the notebook\n",
    "%matplotlib inline"
   ]
  },
  {
   "cell_type": "code",
   "execution_count": 5,
   "id": "272c8443-1efc-4c12-a7f6-f4bbb6e4db14",
   "metadata": {},
   "outputs": [],
   "source": [
    "def sinc(x):\n",
    "    return np.sin(x)/x\n",
    "\n",
    "def d_sinc(x):\n",
    "    \"derivative of sinc-function\"\n",
    "    return np.cos(x)/x - np.sin(x)/x**2"
   ]
  },
  {
   "cell_type": "code",
   "execution_count": 6,
   "id": "516c779d-ee07-464f-b961-c4a4c8866362",
   "metadata": {},
   "outputs": [],
   "source": [
    "# evaluate functions at 1000 points evenly spaced in [-15,15]\n",
    "x = np.linspace(-15,15,1000)\n",
    "f = sinc(x)\n",
    "df = d_sinc(x)"
   ]
  }
 ],
 "metadata": {
  "kernelspec": {
   "display_name": "Python 3 (ipykernel)",
   "language": "python",
   "name": "python3"
  },
  "language_info": {
   "codemirror_mode": {
    "name": "ipython",
    "version": 3
   },
   "file_extension": ".py",
   "mimetype": "text/x-python",
   "name": "python",
   "nbconvert_exporter": "python",
   "pygments_lexer": "ipython3",
   "version": "3.9.13"
  }
 },
 "nbformat": 4,
 "nbformat_minor": 5
}
